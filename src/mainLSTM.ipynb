{
 "cells": [
  {
   "cell_type": "code",
   "execution_count": 1,
   "metadata": {},
   "outputs": [
    {
     "name": "stdout",
     "output_type": "stream",
     "text": [
      "trainX shape: (1739, 10)\n",
      "trainY shape: (1739,)\n",
      "[0.0500395  0.0454642  0.04872747 0.04729487 0.0491579  0.05358176\n",
      " 0.05267774 0.05216312 0.05247405 0.05569289]\n"
     ]
    }
   ],
   "source": [
    "from layer import *\n",
    "from sklearn.model_selection import train_test_split, KFold\n",
    "import numpy as np\n",
    "import pandas as pd\n",
    "from sklearn.preprocessing import MinMaxScaler\n",
    "\n",
    "train_path = '../dataset/ETH-USD-Train.csv'\n",
    "test_path = '../dataset/ETH-USD-Test.csv'\n",
    "\n",
    "df_train = pd.read_csv(train_path, infer_datetime_format=True)\n",
    "df_test = pd.read_csv(test_path, infer_datetime_format=True)\n",
    "df_train['Date'] = pd.to_datetime(df_train.Date)\n",
    "dataset = df_train.loc[:, ['Close']].values\n",
    "dataset = dataset.reshape(-1, 1)\n",
    "scaler = MinMaxScaler(feature_range = (0, 1))\n",
    "data_scaled = scaler.fit_transform(dataset)\n",
    "\n",
    "X_train = []\n",
    "y_train = []\n",
    "time_step = 10\n",
    "for i in range(len(data_scaled) - time_step - 1):\n",
    "    a = data_scaled[i:(i + time_step), 0]\n",
    "    X_train.append(a)\n",
    "    y_train.append(data_scaled[i + time_step, 0])\n",
    "X_train = np.array(X_train)\n",
    "y_train = np.array(y_train)\n",
    "print(\"trainX shape: {}\\ntrainY shape: {}\". format(X_train.shape, y_train.shape))\n",
    "print(X_train[0])"
   ]
  },
  {
   "cell_type": "code",
   "execution_count": 3,
   "metadata": {},
   "outputs": [
    {
     "name": "stdout",
     "output_type": "stream",
     "text": [
      "0\n"
     ]
    },
    {
     "ename": "ValueError",
     "evalue": "shapes (10,256) and (10,) not aligned: 256 (dim 1) != 10 (dim 0)",
     "output_type": "error",
     "traceback": [
      "\u001b[1;31m---------------------------------------------------------------------------\u001b[0m",
      "\u001b[1;31mValueError\u001b[0m                                Traceback (most recent call last)",
      "\u001b[1;32me:\\Coding\\MLL\\IF4074_Tugas1CNN\\src\\mainLSTM.ipynb Cell 2\u001b[0m in \u001b[0;36m<module>\u001b[1;34m\u001b[0m\n\u001b[0;32m      <a href='vscode-notebook-cell:/e%3A/Coding/MLL/IF4074_Tugas1CNN/src/mainLSTM.ipynb#W1sZmlsZQ%3D%3D?line=2'>3</a>\u001b[0m layer \u001b[39m=\u001b[39m [\n\u001b[0;32m      <a href='vscode-notebook-cell:/e%3A/Coding/MLL/IF4074_Tugas1CNN/src/mainLSTM.ipynb#W1sZmlsZQ%3D%3D?line=3'>4</a>\u001b[0m     LSTMLayer(\u001b[39m256\u001b[39m, \u001b[39m10\u001b[39m),\n\u001b[0;32m      <a href='vscode-notebook-cell:/e%3A/Coding/MLL/IF4074_Tugas1CNN/src/mainLSTM.ipynb#W1sZmlsZQ%3D%3D?line=4'>5</a>\u001b[0m     DenseLayer(\u001b[39m1\u001b[39m,\u001b[39m\"\u001b[39m\u001b[39mlinear\u001b[39m\u001b[39m\"\u001b[39m)\n\u001b[0;32m      <a href='vscode-notebook-cell:/e%3A/Coding/MLL/IF4074_Tugas1CNN/src/mainLSTM.ipynb#W1sZmlsZQ%3D%3D?line=5'>6</a>\u001b[0m ]\n\u001b[0;32m      <a href='vscode-notebook-cell:/e%3A/Coding/MLL/IF4074_Tugas1CNN/src/mainLSTM.ipynb#W1sZmlsZQ%3D%3D?line=6'>7</a>\u001b[0m model \u001b[39m=\u001b[39m ModelLSTM(layer)\n\u001b[1;32m----> <a href='vscode-notebook-cell:/e%3A/Coding/MLL/IF4074_Tugas1CNN/src/mainLSTM.ipynb#W1sZmlsZQ%3D%3D?line=7'>8</a>\u001b[0m model\u001b[39m.\u001b[39;49mfit(X_train)\n",
      "File \u001b[1;32me:\\Coding\\MLL\\IF4074_Tugas1CNN\\src\\model.py:82\u001b[0m, in \u001b[0;36mModelLSTM.fit\u001b[1;34m(self, features)\u001b[0m\n\u001b[0;32m     81\u001b[0m \u001b[39mdef\u001b[39;00m \u001b[39mfit\u001b[39m(\u001b[39mself\u001b[39m,features):\n\u001b[1;32m---> 82\u001b[0m     \u001b[39mreturn\u001b[39;00m \u001b[39mself\u001b[39;49m\u001b[39m.\u001b[39;49mforward(features)\n",
      "File \u001b[1;32me:\\Coding\\MLL\\IF4074_Tugas1CNN\\src\\model.py:70\u001b[0m, in \u001b[0;36mModelLSTM.forward\u001b[1;34m(self, inputs)\u001b[0m\n\u001b[0;32m     68\u001b[0m out \u001b[39m=\u001b[39m inputs\u001b[39m.\u001b[39mcopy()\n\u001b[0;32m     69\u001b[0m \u001b[39mfor\u001b[39;00m layer \u001b[39min\u001b[39;00m \u001b[39mself\u001b[39m\u001b[39m.\u001b[39mlayers:\n\u001b[1;32m---> 70\u001b[0m     out \u001b[39m=\u001b[39m layer\u001b[39m.\u001b[39;49mforward(out)\n\u001b[0;32m     71\u001b[0m \u001b[39mreturn\u001b[39;00m out\n",
      "File \u001b[1;32me:\\Coding\\MLL\\IF4074_Tugas1CNN\\src\\layer.py:255\u001b[0m, in \u001b[0;36mLSTMLayer.forward\u001b[1;34m(self, inputs)\u001b[0m\n\u001b[0;32m    253\u001b[0m \u001b[39mself\u001b[39m\u001b[39m.\u001b[39mx \u001b[39m=\u001b[39m inputs\n\u001b[0;32m    254\u001b[0m \u001b[39mfor\u001b[39;00m i \u001b[39min\u001b[39;00m \u001b[39mrange\u001b[39m(\u001b[39mself\u001b[39m\u001b[39m.\u001b[39mn_cells):\n\u001b[1;32m--> 255\u001b[0m     \u001b[39mself\u001b[39;49m\u001b[39m.\u001b[39;49mforgetGate(i)\n\u001b[0;32m    256\u001b[0m     \u001b[39mself\u001b[39m\u001b[39m.\u001b[39minputGate(i)\n\u001b[0;32m    257\u001b[0m     \u001b[39mself\u001b[39m\u001b[39m.\u001b[39mcellState(i)\n",
      "File \u001b[1;32me:\\Coding\\MLL\\IF4074_Tugas1CNN\\src\\layer.py:226\u001b[0m, in \u001b[0;36mLSTMLayer.forgetGate\u001b[1;34m(self, timestep)\u001b[0m\n\u001b[0;32m    223\u001b[0m \u001b[39mdef\u001b[39;00m \u001b[39mforgetGate\u001b[39m(\u001b[39mself\u001b[39m, timestep):\n\u001b[0;32m    224\u001b[0m     \u001b[39mprint\u001b[39m(timestep)\n\u001b[0;32m    225\u001b[0m     \u001b[39mself\u001b[39m\u001b[39m.\u001b[39mtraining_param[\u001b[39m'\u001b[39m\u001b[39mf\u001b[39m\u001b[39m'\u001b[39m\u001b[39m+\u001b[39m\u001b[39mstr\u001b[39m(timestep)] \u001b[39m=\u001b[39m \u001b[39mself\u001b[39m\u001b[39m.\u001b[39msigmoid(\n\u001b[1;32m--> 226\u001b[0m             np\u001b[39m.\u001b[39;49mdot(\u001b[39mself\u001b[39;49m\u001b[39m.\u001b[39;49mforget_param\u001b[39m.\u001b[39;49mu, \u001b[39mself\u001b[39;49m\u001b[39m.\u001b[39;49mx[timestep]) \u001b[39m+\u001b[39m \n\u001b[0;32m    227\u001b[0m             np\u001b[39m.\u001b[39mdot(\u001b[39mself\u001b[39m\u001b[39m.\u001b[39mforget_param\u001b[39m.\u001b[39mw, \u001b[39mself\u001b[39m\u001b[39m.\u001b[39mh_prev) \u001b[39m+\u001b[39m \n\u001b[0;32m    228\u001b[0m             \u001b[39mself\u001b[39m\u001b[39m.\u001b[39mforget_param\u001b[39m.\u001b[39mb\n\u001b[0;32m    229\u001b[0m         )\n",
      "File \u001b[1;32m<__array_function__ internals>:5\u001b[0m, in \u001b[0;36mdot\u001b[1;34m(*args, **kwargs)\u001b[0m\n",
      "\u001b[1;31mValueError\u001b[0m: shapes (10,256) and (10,) not aligned: 256 (dim 1) != 10 (dim 0)"
     ]
    }
   ],
   "source": [
    "from model import *\n",
    "\n",
    "layer = [\n",
    "    LSTMLayer(256, 10),\n",
    "    DenseLayer(1,\"linear\")\n",
    "]\n",
    "model = ModelLSTM(layer)\n",
    "model.fit(X_train)"
   ]
  },
  {
   "cell_type": "code",
   "execution_count": null,
   "metadata": {},
   "outputs": [
    {
     "data": {
      "text/plain": [
       "array([0.20600993, 0.19503919])"
      ]
     },
     "execution_count": 3,
     "metadata": {},
     "output_type": "execute_result"
    }
   ],
   "source": [
    "u =  np.random.rand(2,10)\n",
    "# print(u)\n",
    "np.matmul(u,X_train[0])"
   ]
  },
  {
   "cell_type": "code",
   "execution_count": null,
   "metadata": {},
   "outputs": [
    {
     "name": "stdout",
     "output_type": "stream",
     "text": [
      "[0.68207135 0.30206098 1.00612969 0.32148715 0.93713969 0.59705617\n",
      " 0.76924411 0.99780921 0.52706572 0.87308678 0.60316688 0.28263125\n",
      " 0.95783532 1.28353142 0.43857118 0.75650947 0.36468192 0.70675438\n",
      " 1.0759836  0.35429547 0.99670922 0.32361699 0.69627776 1.17135873\n",
      " 1.17158369 1.15715111 0.72273095 0.67191226 0.92674532 0.72074146\n",
      " 0.96612855 1.08425247 1.0209127  0.72871967 0.63214255 0.44004488\n",
      " 0.45319134 1.0707089  0.36071983 0.34354992 0.3493682  1.08080264\n",
      " 1.09294971 0.71123907 0.81462227 0.97806041 0.80707901 0.50709752\n",
      " 0.62944856 1.15344418 0.71927928 0.74537556 1.00089413 0.86222792\n",
      " 0.37210622 0.52343013 0.56598822 0.46761514 0.39313328 0.65750234\n",
      " 0.32112947 0.6579941  0.52532655 0.83742903 0.2854839  0.53122111\n",
      " 0.44248177 1.12328569 0.74500381 0.44187057 0.65879808 0.86609501\n",
      " 0.45040729 0.48343023 0.73611828 0.52795905 0.96287476 0.35354301\n",
      " 0.65299712 1.03042583 0.89806704 0.65781655 0.85040536 0.95685982\n",
      " 1.15444853 0.24607786 1.05123747 0.49751181 0.90992949 1.05756043\n",
      " 0.71882332 0.2911069  0.85487688 0.70523759 0.92145586 0.31009003\n",
      " 0.73176326 0.57598507 0.43340474 0.38583824 0.77493867 0.88060682\n",
      " 0.6042805  1.04697818 0.78435144 0.5456187  0.60148834 1.0736178\n",
      " 0.20516059 0.69652697 0.97126795 0.80466672 1.15204682 1.07391186\n",
      " 0.72904639 1.09366371 1.28679435 1.08993964 0.77916996 1.14720993\n",
      " 0.49469561 0.7045629  0.49666704 0.94749378 0.5729769  1.01567321\n",
      " 0.23492432 1.02598227 1.03448128 0.30847333 0.47554157 1.31437999\n",
      " 0.47742315 0.67445474 1.04305307 1.06648614 0.45664504 1.07250672\n",
      " 0.62113402 0.57961854 0.51245081 0.37399571 0.72894463 0.58647945\n",
      " 0.40398259 0.96501733 0.27835164 0.4564688  0.76618688 1.25839446\n",
      " 0.81491902 1.19926006 0.63501599 0.79714909 1.14961613 0.73678724\n",
      " 0.55450857 1.00909819 0.89681655 0.81865266 0.39073678 1.02545363\n",
      " 0.52003694 0.78435196 0.71543694 0.76407155 1.03056071 1.02843696\n",
      " 1.2308291  0.9252567  0.7230105  0.37616997 1.10852318 1.0576391\n",
      " 0.45264507 0.60074699 0.90228562 1.18154197 0.45377423 1.16480431\n",
      " 0.94905763 1.03741603 0.31062205 0.34312606 0.62547343 1.09876238\n",
      " 0.5341335  0.32177677 0.46011834 0.57654659 0.97266735 0.84927761\n",
      " 0.95049316 0.97727562 0.57840575 0.27104558 1.21548796 0.57570839\n",
      " 0.38030481 1.07104375 0.42362286 1.1941714  0.46199472 1.01137432\n",
      " 0.54513097 1.2222485  0.41586983 0.65188103 0.48827916 0.94148663\n",
      " 0.92567162 1.17172688 0.84648705 0.97643918 1.31678568 0.86939683\n",
      " 1.25343384 1.10080328 0.82785344 0.48912835 1.06121421 0.75224743\n",
      " 0.61171151 0.8393592  0.78102535 0.57586276 0.3753896  1.23031181\n",
      " 0.67949123 0.94077797 0.87710149 0.54660736 0.83900138 1.20184617\n",
      " 1.26620507 0.77396935 1.0546743  0.79857323 1.18437121 1.08016613\n",
      " 1.02066417 0.97668631 0.78326483 0.59468858 0.97087232 0.83146233\n",
      " 0.35172631 1.2157974  1.04542142 0.29793292 0.49812537 1.10928244\n",
      " 0.63355176 0.29259873 0.78309861 0.86026773]\n"
     ]
    }
   ],
   "source": [
    "u =  np.random.rand(256,10)\n",
    "w = np.random.rand(256)\n",
    "b = np.random.rand(256)\n",
    "h_prev = np.zeros((256,1))\n",
    "\n",
    "print( np.dot(u,X_train[0])+ np.dot(w, h_prev) + b)"
   ]
  },
  {
   "cell_type": "code",
   "execution_count": null,
   "metadata": {},
   "outputs": [],
   "source": [
    "np.dot(self.forget_param.u, self.x[timestep]) + np.dot(self.forget_param.w, self.h_prev) + self.forget_param.b"
   ]
  },
  {
   "cell_type": "code",
   "execution_count": null,
   "metadata": {},
   "outputs": [],
   "source": []
  },
  {
   "cell_type": "code",
   "execution_count": null,
   "metadata": {},
   "outputs": [],
   "source": []
  }
 ],
 "metadata": {
  "kernelspec": {
   "display_name": "Python 3.9.7 64-bit",
   "language": "python",
   "name": "python3"
  },
  "language_info": {
   "codemirror_mode": {
    "name": "ipython",
    "version": 3
   },
   "file_extension": ".py",
   "mimetype": "text/x-python",
   "name": "python",
   "nbconvert_exporter": "python",
   "pygments_lexer": "ipython3",
   "version": "3.9.7"
  },
  "orig_nbformat": 4,
  "vscode": {
   "interpreter": {
    "hash": "b3ba2c05231e865f4a9f15fcacdc898149d1db647ebf95bc753940cfdf0cd981"
   }
  }
 },
 "nbformat": 4,
 "nbformat_minor": 2
}
