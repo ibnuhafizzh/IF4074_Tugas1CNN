{
 "cells": [
  {
   "cell_type": "code",
   "execution_count": 8,
   "metadata": {},
   "outputs": [
    {
     "name": "stdout",
     "output_type": "stream",
     "text": [
      "trainX shape: (1739, 10)\n",
      "trainY shape: (1739,)\n",
      "[0.0500395  0.0454642  0.04872747 0.04729487 0.0491579  0.05358176\n",
      " 0.05267774 0.05216312 0.05247405 0.05569289]\n"
     ]
    }
   ],
   "source": [
    "from layer import *\n",
    "from sklearn.model_selection import train_test_split, KFold\n",
    "import numpy as np\n",
    "import pandas as pd\n",
    "from sklearn.preprocessing import MinMaxScaler\n",
    "\n",
    "train_path = '../dataset/ETH-USD-Train.csv'\n",
    "test_path = '../dataset/ETH-USD-Test.csv'\n",
    "\n",
    "df_train = pd.read_csv(train_path, infer_datetime_format=True)\n",
    "df_test = pd.read_csv(test_path, infer_datetime_format=True)\n",
    "df_train['Date'] = pd.to_datetime(df_train.Date)\n",
    "dataset = df_train.loc[:, ['Close']].values\n",
    "dataset = dataset.reshape(-1, 1)\n",
    "scaler = MinMaxScaler(feature_range = (0, 1))\n",
    "data_scaled = scaler.fit_transform(dataset)\n",
    "\n",
    "X_train = []\n",
    "y_train = []\n",
    "time_step = 10\n",
    "for i in range(len(data_scaled) - time_step - 1):\n",
    "    a = data_scaled[i:(i + time_step), 0]\n",
    "    X_train.append(a)\n",
    "    y_train.append(data_scaled[i + time_step, 0])\n",
    "X_train = np.array(X_train)\n",
    "y_train = np.array(y_train)\n",
    "print(\"trainX shape: {}\\ntrainY shape: {}\". format(X_train.shape, y_train.shape))\n",
    "print(X_train[0])"
   ]
  },
  {
   "cell_type": "code",
   "execution_count": null,
   "metadata": {},
   "outputs": [],
   "source": [
    "from model import *\n",
    "\n",
    "layer = [\n",
    "    LSTMLayer(256, 10),\n",
    "    DenseLayer(1,\"sigmoid\")\n",
    "]\n",
    "model = ModelLSTM(layer)"
   ]
  },
  {
   "cell_type": "code",
   "execution_count": 14,
   "metadata": {},
   "outputs": [
    {
     "data": {
      "text/plain": [
       "array([0.30160782, 0.19290355])"
      ]
     },
     "execution_count": 14,
     "metadata": {},
     "output_type": "execute_result"
    }
   ],
   "source": [
    "u =  np.random.rand(2,10)\n",
    "# print(u)\n",
    "np.matmul(u,X_train[0])"
   ]
  },
  {
   "cell_type": "code",
   "execution_count": null,
   "metadata": {},
   "outputs": [],
   "source": []
  }
 ],
 "metadata": {
  "kernelspec": {
   "display_name": "Python 3.9.5 64-bit",
   "language": "python",
   "name": "python3"
  },
  "language_info": {
   "codemirror_mode": {
    "name": "ipython",
    "version": 3
   },
   "file_extension": ".py",
   "mimetype": "text/x-python",
   "name": "python",
   "nbconvert_exporter": "python",
   "pygments_lexer": "ipython3",
   "version": "3.9.5"
  },
  "orig_nbformat": 4,
  "vscode": {
   "interpreter": {
    "hash": "896e3626904f5c595e3cf2d922f77ce90563c0b94437532eb2a84eb4f4760144"
   }
  }
 },
 "nbformat": 4,
 "nbformat_minor": 2
}
